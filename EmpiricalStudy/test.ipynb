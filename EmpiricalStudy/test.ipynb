{
 "cells": [
  {
   "cell_type": "code",
   "execution_count": 6,
   "metadata": {},
   "outputs": [],
   "source": [
    "import pandas as pd\n",
    "import regex\n",
    "import re\n",
    "import os\n",
    "import numpy as np\n",
    "import rstparse"
   ]
  },
  {
   "cell_type": "markdown",
   "metadata": {},
   "source": [
    "Testing out RepFinder steps for Python Libraries"
   ]
  },
  {
   "cell_type": "markdown",
   "metadata": {},
   "source": [
    "#### 1) Searching Deprecation Message in Python\n",
    "Need to test method and class deprecation with text via API class, name and parameter types"
   ]
  },
  {
   "cell_type": "code",
   "execution_count": 5,
   "metadata": {},
   "outputs": [
    {
     "name": "stdout",
     "output_type": "stream",
     "text": [
      "c:\\Users\\User\\Desktop\\IS706 Software Mining and Analysis\\Group Project\\Stack Overflow API\\EmpiricalStudy\\Changelogs\\sklearn\n"
     ]
    }
   ],
   "source": [
    "sklearn_changelog_dir = os.path.join(os.getcwd(), \"Changelogs\", \"sklearn\")\n",
    "numpy_changelog_dir = os.path.join(os.getcwd(), \"Changelogs\", \"numpy\")\n",
    "print(sklearn_changelog_dir)"
   ]
  },
  {
   "cell_type": "code",
   "execution_count": 4,
   "metadata": {},
   "outputs": [
    {
     "name": "stdout",
     "output_type": "stream",
     "text": [
      "v0.13.rst\n",
      "v0.14.rst\n",
      "v0.15.rst\n",
      "v0.16.rst\n",
      "v0.17.rst\n",
      "v0.18.rst\n",
      "v0.19.rst\n",
      "v0.20.rst\n",
      "v0.21.rst\n",
      "v0.22.rst\n",
      "v0.23.rst\n",
      "v0.24.rst\n",
      "v1.0.rst\n",
      "v1.1.rst\n"
     ]
    }
   ],
   "source": [
    "for changelog in os.listdir(sklearn_changelog_dir):\n",
    "    print(changelog)"
   ]
  },
  {
   "cell_type": "code",
   "execution_count": 10,
   "metadata": {},
   "outputs": [
    {
     "name": "stdout",
     "output_type": "stream",
     "text": [
      "1164\n"
     ]
    }
   ],
   "source": [
    "test_file_path = os.path.join(sklearn_changelog_dir, \"v0.22.rst\")\n",
    "test_rst = rstparse.Parser()\n",
    "with open(test_file_path) as f:\n",
    "    test_rst.read(f)\n",
    "test_rst.parse()\n",
    "print(len(test_rst.lines))"
   ]
  },
  {
   "cell_type": "code",
   "execution_count": 15,
   "metadata": {},
   "outputs": [
    {
     "name": "stdout",
     "output_type": "stream",
     "text": [
      "- |API| ``presort`` is now deprecated in\n",
      "  :class:`ensemble.GradientBoostingClassifier` and\n",
      "  :class:`ensemble.GradientBoostingRegressor`, and the parameter has no effect.\n",
      "  Users are recommended to use :class:`ensemble.HistGradientBoostingClassifier`\n",
      "- |API| ``presort`` is now deprecated in\n",
      "  :class:`tree.DecisionTreeClassifier` and\n",
      "  :class:`tree.DecisionTreeRegressor`, and the parameter has no effect.\n",
      "  :pr:`14907` by `Adrin Jalali`_.\n"
     ]
    }
   ],
   "source": [
    "deprecate_pattern = \"presort\"\n",
    "for i in range(len(test_rst.lines)):\n",
    "    # print 3 or 4 sentences below the deprcation function\n",
    "    if re.search(deprecate_pattern, test_rst.lines[i]) is not None:\n",
    "        print(test_rst.lines[i])\n",
    "        print(test_rst.lines[i + 1])\n",
    "        print(test_rst.lines[i + 2])\n",
    "        print(test_rst.lines[i + 3])"
   ]
  },
  {
   "cell_type": "markdown",
   "metadata": {},
   "source": [
    "### 2) Searching own library in Python"
   ]
  },
  {
   "cell_type": "code",
   "execution_count": null,
   "metadata": {},
   "outputs": [],
   "source": [
    "def levenshtein_distance():\n",
    "    return "
   ]
  }
 ],
 "metadata": {
  "interpreter": {
   "hash": "028ff5fb01b2b2154ee933b11955c83d281cdaa18ea471c362014238a6fcaf6b"
  },
  "kernelspec": {
   "display_name": "Python 3.7.10 ('mlenv')",
   "language": "python",
   "name": "python3"
  },
  "language_info": {
   "codemirror_mode": {
    "name": "ipython",
    "version": 3
   },
   "file_extension": ".py",
   "mimetype": "text/x-python",
   "name": "python",
   "nbconvert_exporter": "python",
   "pygments_lexer": "ipython3",
   "version": "3.7.10"
  },
  "orig_nbformat": 4
 },
 "nbformat": 4,
 "nbformat_minor": 2
}
