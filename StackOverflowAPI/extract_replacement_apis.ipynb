{
 "cells": [
  {
   "cell_type": "code",
   "execution_count": 1,
   "metadata": {},
   "outputs": [],
   "source": [
    "from stack_replacement import getStackQuestionsv2\n",
    "import pandas as pd\n",
    "import requests\n",
    "import re\n",
    "import math\n",
    "from collections import Counter\n",
    "from bs4 import BeautifulSoup\n",
    "from tqdm import tqdm"
   ]
  },
  {
   "cell_type": "code",
   "execution_count": null,
   "metadata": {},
   "outputs": [],
   "source": [
    "def extract_replacement_apis(file:str):\n",
    "    df = pd.read_csv(file)\n",
    "    deprecated_api_list = df[\"DEPRECATED_API\"].to_list()\n",
    "    deprecated_api_replacement_dict = {}\n",
    "    for missing_api in tqdm(deprecated_api_list):\n",
    "        deprecated_api_replacement_dict[missing_api] = getStackQuestionsv2(missing_api, True)\n",
    "    return deprecated_api_replacement_dict"
   ]
  },
  {
   "cell_type": "markdown",
   "metadata": {},
   "source": [
    "Pandas Deprecated API"
   ]
  },
  {
   "cell_type": "code",
   "execution_count": null,
   "metadata": {},
   "outputs": [],
   "source": [
    "pandas_replacement_dict = extract_replacement_apis(\"Labeling - pandas-final.csv\")"
   ]
  },
  {
   "cell_type": "markdown",
   "metadata": {},
   "source": [
    "Seaborns Deprecated APIs"
   ]
  },
  {
   "cell_type": "code",
   "execution_count": null,
   "metadata": {},
   "outputs": [],
   "source": [
    "seaborn_replacement_dict = extract_replacement_apis(\"Labeling - seaborn-final.csv\")"
   ]
  },
  {
   "cell_type": "markdown",
   "metadata": {},
   "source": [
    "Numpy Deprecated APIs"
   ]
  },
  {
   "cell_type": "code",
   "execution_count": null,
   "metadata": {},
   "outputs": [],
   "source": [
    "numpy_replacement_dict = extract_replacement_apis(\"Labeling - numpy-final.csv\")"
   ]
  },
  {
   "cell_type": "markdown",
   "metadata": {},
   "source": [
    "Scipy Deprecated APIs"
   ]
  },
  {
   "cell_type": "code",
   "execution_count": null,
   "metadata": {},
   "outputs": [],
   "source": [
    "scipy_replacement_dict = extract_replacement_apis(\"Labeling - scipy-final.csv\")"
   ]
  }
 ],
 "metadata": {
  "interpreter": {
   "hash": "028ff5fb01b2b2154ee933b11955c83d281cdaa18ea471c362014238a6fcaf6b"
  },
  "kernelspec": {
   "display_name": "Python 3.7.10 ('mlenv')",
   "language": "python",
   "name": "python3"
  },
  "language_info": {
   "codemirror_mode": {
    "name": "ipython",
    "version": 3
   },
   "file_extension": ".py",
   "mimetype": "text/x-python",
   "name": "python",
   "nbconvert_exporter": "python",
   "pygments_lexer": "ipython3",
   "version": "3.7.10"
  },
  "orig_nbformat": 4
 },
 "nbformat": 4,
 "nbformat_minor": 2
}
