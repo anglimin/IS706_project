{
 "cells": [
  {
   "cell_type": "code",
   "execution_count": 57,
   "id": "fa2a8530",
   "metadata": {},
   "outputs": [],
   "source": [
    "import json\n",
    "import requests\n",
    "import os\n",
    "import zipfile\n",
    "from tqdm.notebook import tqdm"
   ]
  },
  {
   "cell_type": "markdown",
   "id": "caa940d9",
   "metadata": {},
   "source": [
    "# Download all versions from Pypi"
   ]
  },
  {
   "cell_type": "code",
   "execution_count": 69,
   "id": "a8ff3eaf",
   "metadata": {},
   "outputs": [
    {
     "data": {
      "application/vnd.jupyter.widget-view+json": {
       "model_id": "c92d4a4e7e6f436cb7359d71ccd11438",
       "version_major": 2,
       "version_minor": 0
      },
      "text/plain": [
       "scipy:   0%|          | 0/75 [00:00<?, ?it/s]"
      ]
     },
     "metadata": {},
     "output_type": "display_data"
    }
   ],
   "source": [
    "data_dir = 'data/'\n",
    "libraries = ['scipy']\n",
    "\n",
    "for lib in libraries:\n",
    "    lib_data_path = os.path.join(data_dir, lib)\n",
    "    os.makedirs(lib_data_path, exist_ok=True)\n",
    "    pypi_url = \"https://pypi.org/pypi/%s/json\" % (lib,)\n",
    "    repo = requests.get(pypi_url).text\n",
    "    repo = json.loads(repo)['releases']\n",
    "    \n",
    "    for version, packages in tqdm(data.items(), desc=lib):\n",
    "        for p in packages:\n",
    "            filename = p['filename']\n",
    "            url = p['url']\n",
    "            if filename.endswith('.zip'):\n",
    "                zip_file = requests.get(url)\n",
    "                open(os.path.join(lib_data_path, filename), 'wb').write(zip_file.content)\n",
    "        \n"
   ]
  },
  {
   "cell_type": "code",
   "execution_count": 70,
   "id": "67d4686d",
   "metadata": {},
   "outputs": [],
   "source": [
    "for zip_filename in os.listdir(lib_data_path):\n",
    "    if zip_filename.endswith('.zip'):\n",
    "        unzip_path = os.path.join(lib_data_path, zip_filename.replace('.zip', ''))\n",
    "        with zipfile.ZipFile(os.path.join(lib_data_path, zip_filename), 'r') as zip_ref:\n",
    "            zip_ref.extractall(lib_data_path)"
   ]
  },
  {
   "cell_type": "code",
   "execution_count": 54,
   "id": "a0188eb2",
   "metadata": {},
   "outputs": [],
   "source": []
  },
  {
   "cell_type": "code",
   "execution_count": 66,
   "id": "e7f4f578",
   "metadata": {},
   "outputs": [],
   "source": []
  },
  {
   "cell_type": "code",
   "execution_count": null,
   "id": "75cfe7da",
   "metadata": {},
   "outputs": [],
   "source": []
  }
 ],
 "metadata": {
  "kernelspec": {
   "display_name": "Python 3 (ipykernel)",
   "language": "python",
   "name": "python3"
  },
  "language_info": {
   "codemirror_mode": {
    "name": "ipython",
    "version": 3
   },
   "file_extension": ".py",
   "mimetype": "text/x-python",
   "name": "python",
   "nbconvert_exporter": "python",
   "pygments_lexer": "ipython3",
   "version": "3.9.7"
  }
 },
 "nbformat": 4,
 "nbformat_minor": 5
}
