{
 "cells": [
  {
   "cell_type": "code",
   "execution_count": 7,
   "id": "fa2a8530",
   "metadata": {},
   "outputs": [],
   "source": [
    "import json\n",
    "import requests\n",
    "import os\n",
    "import zipfile\n",
    "import tarfile\n",
    "from tqdm.notebook import tqdm"
   ]
  },
  {
   "cell_type": "markdown",
   "id": "caa940d9",
   "metadata": {},
   "source": [
    "# Download all versions from Pypi"
   ]
  },
  {
   "cell_type": "code",
   "execution_count": 10,
   "id": "a8ff3eaf",
   "metadata": {},
   "outputs": [
    {
     "data": {
      "application/vnd.jupyter.widget-view+json": {
       "model_id": "a43a7c79fa67428e8e658d2f7b7e096d",
       "version_major": 2,
       "version_minor": 0
      },
      "text/plain": [
       "scipy:   0%|          | 0/75 [00:00<?, ?it/s]"
      ]
     },
     "metadata": {},
     "output_type": "display_data"
    }
   ],
   "source": [
    "data_dir = 'data/'\n",
    "libraries = ['scipy']\n",
    "\n",
    "for lib in libraries:\n",
    "    lib_data_path = os.path.join(data_dir, lib)\n",
    "    os.makedirs(lib_data_path, exist_ok=True)\n",
    "    pypi_url = \"https://pypi.org/pypi/%s/json\" % (lib,)\n",
    "    repo = requests.get(pypi_url).text\n",
    "    repo = json.loads(repo)['releases']\n",
    "    \n",
    "    for version, packages in tqdm(repo.items(), desc=lib):\n",
    "        for p in packages:\n",
    "            filename = p['filename']\n",
    "            url = p['url']\n",
    "            if filename.endswith('.tar.gz'):\n",
    "                downloaded_file = requests.get(url)\n",
    "                open(os.path.join(lib_data_path, filename), 'wb').write(downloaded_file.content)\n",
    "            \n",
    "\n",
    "            \n",
    "        \n"
   ]
  },
  {
   "cell_type": "code",
   "execution_count": 18,
   "id": "67d4686d",
   "metadata": {},
   "outputs": [
    {
     "data": {
      "application/vnd.jupyter.widget-view+json": {
       "model_id": "8aacb64f39a94eceb7d2611f542e7858",
       "version_major": 2,
       "version_minor": 0
      },
      "text/plain": [
       "  0%|          | 0/138 [00:00<?, ?it/s]"
      ]
     },
     "metadata": {},
     "output_type": "display_data"
    }
   ],
   "source": [
    "# for zip_filename in os.listdir(lib_data_path):\n",
    "#     if zip_filename.endswith('.zip'):\n",
    "#         unzip_path = os.path.join(lib_data_path, zip_filename.replace('.zip', ''))\n",
    "#         with zipfile.ZipFile(os.path.join(lib_data_path, zip_filename), 'r') as zip_ref:\n",
    "#             zip_ref.extractall(lib_data_path)\n",
    "for tar_filename in tqdm(os.listdir(lib_data_path)):\n",
    "    if tar_filename.endswith(\"tar.gz\"):\n",
    "        tar = tarfile.open(os.path.join(lib_data_path, tar_filename), \"r:gz\")\n",
    "        tar.extractall(lib_data_path)\n",
    "        tar.close()\n",
    "    "
   ]
  }
 ],
 "metadata": {
  "kernelspec": {
   "display_name": "Python 3 (ipykernel)",
   "language": "python",
   "name": "python3"
  },
  "language_info": {
   "codemirror_mode": {
    "name": "ipython",
    "version": 3
   },
   "file_extension": ".py",
   "mimetype": "text/x-python",
   "name": "python",
   "nbconvert_exporter": "python",
   "pygments_lexer": "ipython3",
   "version": "3.9.7"
  }
 },
 "nbformat": 4,
 "nbformat_minor": 5
}
