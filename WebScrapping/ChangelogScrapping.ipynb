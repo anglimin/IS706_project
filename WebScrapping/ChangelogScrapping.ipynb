{
 "cells": [
  {
   "cell_type": "code",
   "execution_count": null,
   "metadata": {},
   "outputs": [],
   "source": [
    "import pandas as pd \n",
    "import os\n",
    "import numpy as np\n"
   ]
  }
 ],
 "metadata": {
  "interpreter": {
   "hash": "028ff5fb01b2b2154ee933b11955c83d281cdaa18ea471c362014238a6fcaf6b"
  },
  "kernelspec": {
   "display_name": "Python 3.7.10 ('mlenv')",
   "language": "python",
   "name": "python3"
  },
  "language_info": {
   "name": "python",
   "version": "3.7.10"
  },
  "orig_nbformat": 4
 },
 "nbformat": 4,
 "nbformat_minor": 2
}
